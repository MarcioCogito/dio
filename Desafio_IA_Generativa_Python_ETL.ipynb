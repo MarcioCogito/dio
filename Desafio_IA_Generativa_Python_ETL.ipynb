{
 "cells": [
  {
   "cell_type": "markdown",
   "id": "693637f3",
   "metadata": {},
   "source": [
    "## API SDW\n",
    "Repositório da API: https://github.com/digitalinnovationone/santander-dev-week-2023-api\n",
    "\n",
    "sdw2023_api_url = 'https://sdw-2023-prd.up.railway.app'"
   ]
  },
  {
   "cell_type": "code",
   "execution_count": 7,
   "id": "ad82df29",
   "metadata": {},
   "outputs": [],
   "source": [
    "import pandas as pd\n",
    "import requests\n",
    "import json\n",
    "import openai"
   ]
  },
  {
   "cell_type": "code",
   "execution_count": 8,
   "id": "255447a9",
   "metadata": {},
   "outputs": [],
   "source": [
    "# Utilize sua própria URL se quiser ;)\n",
    "# Repositório da API: https://github.com/digitalinnovationone/santander-dev-week-2023-api\n",
    "sdw2023_api_url = 'https://sdw-2023-prd.up.railway.app'"
   ]
  },
  {
   "cell_type": "markdown",
   "id": "c2485324",
   "metadata": {},
   "source": [
    "### Data frame"
   ]
  },
  {
   "cell_type": "code",
   "execution_count": 10,
   "id": "b9140076",
   "metadata": {},
   "outputs": [
    {
     "name": "stdout",
     "output_type": "stream",
     "text": [
      "[1, 2, 3, 4, 5]\n"
     ]
    }
   ],
   "source": [
    "d = {'UserID':[1,2,3,4,5]}\n",
    "df = pd.DataFrame(data = d)\n",
    "user_ids = df['UserID'].tolist()\n",
    "print(user_ids)"
   ]
  },
  {
   "cell_type": "markdown",
   "id": "6c6b0271",
   "metadata": {},
   "source": [
    "### Extract"
   ]
  },
  {
   "cell_type": "code",
   "execution_count": null,
   "id": "5f09bcfd",
   "metadata": {},
   "outputs": [],
   "source": [
    "def get_user(id):\n",
    "  response = requests.get(f'{sdw2023_api_url}/users/{id}')\n",
    "  return response.json() if response.status_code == 200 else None\n",
    "\n",
    "users = [user for id in user_ids if (user := get_user(id)) is not None]\n",
    "print(json.dumps(users, indent=2))"
   ]
  },
  {
   "cell_type": "markdown",
   "id": "9c63d940",
   "metadata": {},
   "source": [
    "###  Transform"
   ]
  },
  {
   "cell_type": "code",
   "execution_count": 11,
   "id": "4b711850",
   "metadata": {},
   "outputs": [],
   "source": [
    "openai_api_key = 'sk-bXFRTu13324ghjhdkklo125488glk1775577879'"
   ]
  },
  {
   "cell_type": "code",
   "execution_count": 12,
   "id": "7465f964",
   "metadata": {},
   "outputs": [
    {
     "ename": "NameError",
     "evalue": "name 'openai' is not defined",
     "output_type": "error",
     "traceback": [
      "\u001b[0;31m---------------------------------------------------------------------------\u001b[0m",
      "\u001b[0;31mNameError\u001b[0m                                 Traceback (most recent call last)",
      "Cell \u001b[0;32mIn[12], line 1\u001b[0m\n\u001b[0;32m----> 1\u001b[0m \u001b[43mopenai\u001b[49m\u001b[38;5;241m.\u001b[39mapi_key \u001b[38;5;241m=\u001b[39m openai_api_key\n\u001b[1;32m      3\u001b[0m \u001b[38;5;28;01mdef\u001b[39;00m \u001b[38;5;21mgenerate_ai_news\u001b[39m(user):\n\u001b[1;32m      4\u001b[0m   completion \u001b[38;5;241m=\u001b[39m openai\u001b[38;5;241m.\u001b[39mChatCompletion\u001b[38;5;241m.\u001b[39mcreate(\n\u001b[1;32m      5\u001b[0m     model\u001b[38;5;241m=\u001b[39m\u001b[38;5;124m\"\u001b[39m\u001b[38;5;124mgpt-4\u001b[39m\u001b[38;5;124m\"\u001b[39m,\n\u001b[1;32m      6\u001b[0m     messages\u001b[38;5;241m=\u001b[39m[\n\u001b[0;32m   (...)\u001b[0m\n\u001b[1;32m     15\u001b[0m     ]\n\u001b[1;32m     16\u001b[0m   )\n",
      "\u001b[0;31mNameError\u001b[0m: name 'openai' is not defined"
     ]
    }
   ],
   "source": [
    "openai.api_key = openai_api_key\n",
    "\n",
    "def generate_ai_news(user):\n",
    "  completion = openai.ChatCompletion.create(\n",
    "    model=\"gpt-4\",\n",
    "    messages=[\n",
    "      {\n",
    "          \"role\": \"system\",\n",
    "          \"content\": \"Você é um especialista em marketing e investimento bancário.\"\n",
    "      },\n",
    "      {\n",
    "          \"role\": \"user\",\n",
    "          \"content\": f\"Crie uma mensagem para {user['name']} sobre a importância dos investimentos (máximo de 50 caracteres)\"\n",
    "      }\n",
    "    ]\n",
    "  )\n",
    "  return completion.choices[0].message.content.strip('\\\"')\n",
    "\n",
    "for user in users:\n",
    "  news = generate_ai_news(user)\n",
    "  print(news)\n",
    "  user['news'].append({\n",
    "      \"icon\": \"https://digitalinnovationone.github.io/santander-dev-week-2023-api/icons/credit.svg\",\n",
    "      \"description\": news\n",
    "  })"
   ]
  },
  {
   "cell_type": "markdown",
   "id": "5ff7c2b3",
   "metadata": {},
   "source": [
    "### Load"
   ]
  },
  {
   "cell_type": "code",
   "execution_count": null,
   "id": "a3917b4c",
   "metadata": {},
   "outputs": [],
   "source": [
    "def update_user(user):\n",
    "  response = requests.put(f\"{sdw2023_api_url}/users/{user['id']}\", json=user)\n",
    "  return True if response.status_code == 200 else False\n",
    "\n",
    "for user in users:\n",
    "  success = update_user(user)\n",
    "  print(f\"User {user['name']} updated? {success}!\")"
   ]
  }
 ],
 "metadata": {
  "kernelspec": {
   "display_name": "Python 3 (ipykernel)",
   "language": "python",
   "name": "python3"
  },
  "language_info": {
   "codemirror_mode": {
    "name": "ipython",
    "version": 3
   },
   "file_extension": ".py",
   "mimetype": "text/x-python",
   "name": "python",
   "nbconvert_exporter": "python",
   "pygments_lexer": "ipython3",
   "version": "3.10.9"
  }
 },
 "nbformat": 4,
 "nbformat_minor": 5
}
